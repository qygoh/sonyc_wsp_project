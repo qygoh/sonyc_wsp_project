{
 "cells": [
  {
   "cell_type": "code",
   "execution_count": 1,
   "metadata": {
    "scrolled": true
   },
   "outputs": [],
   "source": [
    "import numpy as np\n",
    "import pandas as pd"
   ]
  },
  {
   "cell_type": "markdown",
   "metadata": {},
   "source": [
    "### Load in SPL data from binary file"
   ]
  },
  {
   "cell_type": "code",
   "execution_count": 2,
   "metadata": {},
   "outputs": [],
   "source": [
    "def load_spl_file(data_file_path):\n",
    "    with open(data_file_path, 'rb') as f:\n",
    "        \n",
    "        # Read first 3 meta lines of data file\n",
    "        sensor_name = f.readline().decode('utf8')\n",
    "        print(sensor_name)\n",
    "        \n",
    "        location = f.readline().decode('utf8')\n",
    "        print(location)\n",
    "        \n",
    "        col_names = f.readline().decode('utf8')\n",
    "        print(col_names)\n",
    "        \n",
    "        # Set data type for columns and read from file\n",
    "        dt = np.dtype([('timestamp', 'f8'), ('dBAS', 'f4')])\n",
    "        data = np.fromfile(f, dtype=dt)\n",
    "        \n",
    "        df = pd.DataFrame(data, columns=data.dtype.names)\n",
    "        \n",
    "        # Setup timestamp column as index\n",
    "        df['timestamp'] = pd.to_datetime(df['timestamp'], unit='s')\n",
    "        df.set_index(pd.DatetimeIndex(df['timestamp']), inplace=True)\n",
    "        df.sort_index(inplace=True)\n",
    "        df = df.tz_localize('UTC').tz_convert('America/New_York')\n",
    "        \n",
    "        return sensor_name, df"
   ]
  },
  {
   "cell_type": "markdown",
   "metadata": {},
   "source": [
    "### Calculate average decibel level - equivalent continuous sound level (Leq)"
   ]
  },
  {
   "cell_type": "code",
   "execution_count": 3,
   "metadata": {},
   "outputs": [],
   "source": [
    "def calc_leq(data):\n",
    "    return 10 * np.log10(np.mean(10 ** (data / 10)))"
   ]
  },
  {
   "cell_type": "markdown",
   "metadata": {},
   "source": [
    "### Calculate statistical noise level (Lx) - L90 = background level, L1 = peak level"
   ]
  },
  {
   "cell_type": "code",
   "execution_count": 4,
   "metadata": {},
   "outputs": [],
   "source": [
    "def calcbg(data, stat_value=90):\n",
    "    stat_percentile = 100 - stat_value\n",
    "    return np.nanpercentile(data, stat_percentile)"
   ]
  },
  {
   "cell_type": "code",
   "execution_count": 5,
   "metadata": {},
   "outputs": [
    {
     "name": "stdout",
     "output_type": "stream",
     "text": [
      "sonycnode-b827ebf31214.sonyc\n",
      "\n",
      "0.000000,0.000000\n",
      "\n",
      "timestamp,dBAS\n",
      "\n"
     ]
    }
   ],
   "source": [
    "test_path = 'sonycnode-b827ebf31214.sonyc.bin'\n",
    "sensor_name, df = load_spl_file(test_path)"
   ]
  },
  {
   "cell_type": "code",
   "execution_count": 12,
   "metadata": {},
   "outputs": [
    {
     "name": "stdout",
     "output_type": "stream",
     "text": [
      "sonycnode-b827ebf31214.sonyc\n",
      "\n"
     ]
    }
   ],
   "source": [
    "df.head()\n",
    "print(name)"
   ]
  },
  {
   "cell_type": "code",
   "execution_count": 13,
   "metadata": {},
   "outputs": [],
   "source": [
    "import pickle\n",
    "pickle.dump(df, open('%s.p' % name, 'wb'))"
   ]
  },
  {
   "cell_type": "code",
   "execution_count": null,
   "metadata": {},
   "outputs": [],
   "source": []
  }
 ],
 "metadata": {
  "kernelspec": {
   "display_name": "sonyc_wsp_project",
   "language": "python",
   "name": "sonyc_wsp_project"
  },
  "language_info": {
   "codemirror_mode": {
    "name": "ipython",
    "version": 3
   },
   "file_extension": ".py",
   "mimetype": "text/x-python",
   "name": "python",
   "nbconvert_exporter": "python",
   "pygments_lexer": "ipython3",
   "version": "3.6.8"
  }
 },
 "nbformat": 4,
 "nbformat_minor": 2
}
