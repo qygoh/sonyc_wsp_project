{
 "cells": [
  {
   "cell_type": "markdown",
   "metadata": {},
   "source": [
    "This notebook is to get coordinates for the nodes which have binary files in a particualr file. sensor_meta.json contains the dictionary with metadata about each node."
   ]
  },
  {
   "cell_type": "code",
   "execution_count": 70,
   "metadata": {},
   "outputs": [
    {
     "name": "stdout",
     "output_type": "stream",
     "text": [
      "Populating the interactive namespace from numpy and matplotlib\n",
      "[{'ap': 'SONYC IOT',\n",
      "  'body': 'Mounted on the roof of a public toilet\\n'\n",
      "          '\\tLinkNYC connected across a\\xa0large street\\n'\n",
      "          '\\t30ft of spliced cabling used\\n'\n",
      "          '\\tPlugged in inside the maintenance\\xa0room at the rear of '\n",
      "          'building\\n'\n",
      "          '\\tDirectional antenna\\n'\n",
      "          '\\tGlued and taped onto slate\\n'\n",
      "          '\\tPotential vandal threat\\n'\n",
      "          '\\tDateup: 07/17/18 18:00\\n',\n",
      "  'branch': 'master',\n",
      "  'commit_date': '<div class=\"date_diff_mt_3600 form-group\">11 months 3 weeks '\n",
      "                 'ago</div>\\n',\n",
      "  'cpu_cur_freq': '900000000.00',\n",
      "  'cpu_load_1': '0.72',\n",
      "  'cpu_load_15': '0.71',\n",
      "  'cpu_load_5': '0.76',\n",
      "  'cpu_max_freq': '',\n",
      "  'cpu_temp': '33.60',\n",
      "  'date_up': '2018-07-17T18:00:00',\n",
      "  'disk_part': '',\n",
      "  'fqdn': 'sonycnode-b827ebed47a6.sonyc',\n",
      "  'image_url': '',\n",
      "  'ingestion_server': 'ingestion1-sonyc',\n",
      "  'laeq': '50.07',\n",
      "  'langcode': 'On',\n",
      "  'last_update': '2018-11-04T02:17:58',\n",
      "  'lceq': '65.51',\n",
      "  'level_time': '2018-11-03T22:17:56',\n",
      "  'life_stage': 'Active',\n",
      "  'lzeq': '73.96',\n",
      "  'mem_available': '835702784',\n",
      "  'mem_percent': '13.90',\n",
      "  'mem_total': '970862592',\n",
      "  'mem_used': '882909184',\n",
      "  'music_usage': '',\n",
      "  'nid': '103',\n",
      "  'nodeid': 'e84e06491cb9',\n",
      "  'path': 'https://control-sonyc.engineering.nyu.edu/sonyc_cp/node/103',\n",
      "  'position': 'POINT (-73.946357 40.812207)',\n",
      "  'running_proc': '106',\n",
      "  'rx_packets': '330899443',\n",
      "  'signed': 'Yes',\n",
      "  'status': 'On',\n",
      "  'switch': '',\n",
      "  'title': 'St Nicholas North Playground',\n",
      "  'tmp_usage': '0.10',\n",
      "  'tx_packets': '2116079463',\n",
      "  'usb_dev': '',\n",
      "  'vid': '322'},\n",
      " {'ap': 'SONYC IOT',\n",
      "  'body': 'Getting internet from wifi hotspot in DOHMH sensor box\\n'\n",
      "          '\\tDOHMH sensor down 8/11 - wifi hostpot down - getting wiif from '\n",
      "          'LinkNYC on 8th and 39th\\n',\n",
      "  'branch': 'master',\n",
      "  'commit_date': '<div class=\"date_diff_mt_3600 form-group\">11 months 3 weeks '\n",
      "                 'ago</div>\\n',\n",
      "  'cpu_cur_freq': '900000000.00',\n",
      "  'cpu_load_1': '0.99',\n",
      "  'cpu_load_15': '1.18',\n",
      "  'cpu_load_5': '1.26',\n",
      "  'cpu_max_freq': '',\n",
      "  'cpu_temp': '53.50',\n",
      "  'date_up': '2018-08-09T14:00:00',\n",
      "  'disk_part': '',\n",
      "  'fqdn': 'sonycnode-b827eb74a9e8.sonyc',\n",
      "  'image_url': 'https://control-sonyc.engineering.nyu.edu/sonyc_cp/sites/default/files/2018-08/IMG_0991_0.JPG',\n",
      "  'ingestion_server': 'ingestion2-sonyc',\n",
      "  'laeq': '71.92',\n",
      "  'langcode': 'On',\n",
      "  'last_update': '2019-05-31T10:22:51',\n",
      "  'lceq': '78.46',\n",
      "  'level_time': '2019-05-31T06:23:06',\n",
      "  'life_stage': 'Active',\n",
      "  'lzeq': '81.00',\n",
      "  'mem_available': '856477696',\n",
      "  'mem_percent': '11.80',\n",
      "  'mem_total': '970862592',\n",
      "  'mem_used': '429391872',\n",
      "  'music_usage': '',\n",
      "  'nid': '102',\n",
      "  'nodeid': 'e84e065bea31',\n",
      "  'path': 'https://control-sonyc.engineering.nyu.edu/sonyc_cp/node/102',\n",
      "  'position': 'POINT (-73.990174 40.754965)',\n",
      "  'running_proc': '109',\n",
      "  'rx_packets': '30552137',\n",
      "  'signed': 'No',\n",
      "  'status': 'On',\n",
      "  'switch': '',\n",
      "  'title': '39th and 8th (DOHMH)',\n",
      "  'tmp_usage': '14.20',\n",
      "  'tx_packets': '113957553',\n",
      "  'usb_dev': '',\n",
      "  'vid': '321'}]\n"
     ]
    },
    {
     "name": "stderr",
     "output_type": "stream",
     "text": [
      "C:\\Users\\siddh\\Anaconda3\\envs\\kaggle\\lib\\site-packages\\IPython\\core\\magics\\pylab.py:160: UserWarning: pylab import has clobbered these variables: ['f']\n",
      "`%matplotlib` prevents importing * from pylab and numpy\n",
      "  \"\\n`%matplotlib` prevents importing * from pylab and numpy\"\n"
     ]
    }
   ],
   "source": [
    "import json\n",
    "from pprint import pprint\n",
    "import pandas as pd\n",
    "import geopandas as gpd\n",
    "from os import listdir\n",
    "%pylab inline\n",
    "\n",
    "with open('sensor_meta.json') as f:\n",
    "    data = json.load(f)\n",
    "pprint(data[:2])"
   ]
  },
  {
   "cell_type": "markdown",
   "metadata": {},
   "source": [
    "Here the node id's are associated to the dictionary key fqdn."
   ]
  },
  {
   "cell_type": "code",
   "execution_count": 72,
   "metadata": {},
   "outputs": [],
   "source": [
    "node_list = []\n",
    "for i in listdir('data_files'):\n",
    "    node_list.append(i.replace('.bin',''))"
   ]
  },
  {
   "cell_type": "markdown",
   "metadata": {},
   "source": [
    "A list is made containing the file names of the binary files. The binary files for each node is in the folder 'data_files'. This folder should not contain any additional files."
   ]
  },
  {
   "cell_type": "code",
   "execution_count": 71,
   "metadata": {},
   "outputs": [],
   "source": [
    "collector_list = []\n",
    "for i in data:\n",
    "    if(i['fqdn'] in (node_list)):\n",
    "        collector_list.append([i['position'].split('(')[1].split(' ')[1].replace(')',''),\\\n",
    "                               i['position'].split('(')[1].split(' ')[0],i['fqdn'],i['title']])"
   ]
  },
  {
   "cell_type": "markdown",
   "metadata": {},
   "source": [
    "Here we take the the node id, coordinates and title of each each of the nodes in the previously created list and create a list for each record. This list of records is used to create a dataframe."
   ]
  },
  {
   "cell_type": "code",
   "execution_count": 74,
   "metadata": {},
   "outputs": [],
   "source": [
    "relevant_nodes = pd.DataFrame(collector_list,columns=['latitude','longitude','node_id','title'])"
   ]
  },
  {
   "cell_type": "code",
   "execution_count": 75,
   "metadata": {},
   "outputs": [],
   "source": [
    "relevant_nodes.to_csv('relevant_nodes.csv')"
   ]
  }
 ],
 "metadata": {
  "kernelspec": {
   "display_name": "kaggle",
   "language": "python",
   "name": "kaggle"
  },
  "language_info": {
   "codemirror_mode": {
    "name": "ipython",
    "version": 3
   },
   "file_extension": ".py",
   "mimetype": "text/x-python",
   "name": "python",
   "nbconvert_exporter": "python",
   "pygments_lexer": "ipython3",
   "version": "3.6.6"
  }
 },
 "nbformat": 4,
 "nbformat_minor": 2
}
