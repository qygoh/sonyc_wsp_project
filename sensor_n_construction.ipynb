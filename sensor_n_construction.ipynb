{
 "cells": [
  {
   "cell_type": "code",
   "execution_count": 1,
   "metadata": {},
   "outputs": [],
   "source": [
    "import numpy as np\n",
    "import pandas as pd\n",
    "import pickle\n",
    "import matplotlib.pyplot as plt\n",
    "%matplotlib inline"
   ]
  },
  {
   "cell_type": "markdown",
   "metadata": {},
   "source": [
    "# Purpose of this notebook\n",
    "\n",
    "1) To read and visualize selected noise sensors' data! \n",
    "\n",
    "2) To do the case study of that one time where there is confirmed construction and try to find the shape of how that case looks like. \n",
    "\n",
    " - (one of them being 12th April recording people jackhammering 8:20 AM)\n",
    "\n",
    " - Will try 2018, 2017 cause not sure of the exact year"
   ]
  },
  {
   "cell_type": "markdown",
   "metadata": {},
   "source": [
    "# Mass reading the pickle files"
   ]
  },
  {
   "cell_type": "code",
   "execution_count": 2,
   "metadata": {},
   "outputs": [],
   "source": [
    "pickled_files = ['sonycnode-b827eb820cfe.sonyc.p',\n",
    " 'sonycnode-b827eb8e2420.sonyc.p',\n",
    " 'sonycnode-b827eb73e772.sonyc.p',\n",
    " 'sonycnode-b827eb815321.sonyc.p',\n",
    " 'sonycnode-b827eb329ab8.sonyc.p',\n",
    " 'sonycnode-b827ebdd5c38.sonyc.p',\n",
    " 'sonycnode-b827eb0d8af7.sonyc.p',\n",
    " 'sonycnode-b827eb4e7821.sonyc.p',\n",
    " 'sonycnode-b827eb86d458.sonyc.p']"
   ]
  },
  {
   "cell_type": "code",
   "execution_count": 3,
   "metadata": {},
   "outputs": [],
   "source": [
    "# creating a list of all the filenames\n",
    "filenames=[]\n",
    "for i in range(9): \n",
    "    filenames.append(pickled_files[i][:22]) #removing the file extension "
   ]
  },
  {
   "cell_type": "code",
   "execution_count": 4,
   "metadata": {},
   "outputs": [
    {
     "data": {
      "text/plain": [
       "['sonycnode-b827eb820cfe',\n",
       " 'sonycnode-b827eb8e2420',\n",
       " 'sonycnode-b827eb73e772',\n",
       " 'sonycnode-b827eb815321',\n",
       " 'sonycnode-b827eb329ab8',\n",
       " 'sonycnode-b827ebdd5c38',\n",
       " 'sonycnode-b827eb0d8af7',\n",
       " 'sonycnode-b827eb4e7821',\n",
       " 'sonycnode-b827eb86d458']"
      ]
     },
     "execution_count": 4,
     "metadata": {},
     "output_type": "execute_result"
    }
   ],
   "source": [
    "filenames"
   ]
  },
  {
   "cell_type": "code",
   "execution_count": 5,
   "metadata": {},
   "outputs": [],
   "source": [
    "# creating a dictionary of all the files \n",
    "dict_files = {}\n",
    "for i in range(9):\n",
    "    # print(filenames[i])\n",
    "    dict_files[filenames[i]]= pd.read_pickle(pickled_files[i])"
   ]
  },
  {
   "cell_type": "code",
   "execution_count": 6,
   "metadata": {},
   "outputs": [
    {
     "data": {
      "text/plain": [
       "dict_keys(['sonycnode-b827eb820cfe', 'sonycnode-b827eb8e2420', 'sonycnode-b827eb73e772', 'sonycnode-b827eb815321', 'sonycnode-b827eb329ab8', 'sonycnode-b827ebdd5c38', 'sonycnode-b827eb0d8af7', 'sonycnode-b827eb4e7821', 'sonycnode-b827eb86d458'])"
      ]
     },
     "execution_count": 6,
     "metadata": {},
     "output_type": "execute_result"
    }
   ],
   "source": [
    "dict_files.keys()"
   ]
  },
  {
   "cell_type": "code",
   "execution_count": 7,
   "metadata": {},
   "outputs": [],
   "source": [
    "for i in range(9):\n",
    "    filenames[i] = dict_files[filenames[i]]"
   ]
  },
  {
   "cell_type": "markdown",
   "metadata": {},
   "source": [
    "Selecting only year 2018 and only year 2017 across all the sensors"
   ]
  },
  {
   "cell_type": "code",
   "execution_count": 8,
   "metadata": {},
   "outputs": [],
   "source": [
    "year_2017 = ['sonycnode-b827eb820cfe',\n",
    " 'sonycnode-b827eb8e2420',\n",
    " 'sonycnode-b827eb73e772',\n",
    " 'sonycnode-b827eb815321',\n",
    " 'sonycnode-b827eb329ab8',\n",
    " 'sonycnode-b827ebdd5c38',\n",
    " 'sonycnode-b827eb0d8af7',\n",
    " 'sonycnode-b827eb4e7821',\n",
    " 'sonycnode-b827eb86d458']"
   ]
  },
  {
   "cell_type": "code",
   "execution_count": null,
   "metadata": {},
   "outputs": [],
   "source": [
    "dict_2017 = {}\n",
    "for i in range(9):\n",
    "    # print(filenames[i])\n",
    "    dict_2017[year_2017[i]]= filenames[i][filenames[i]['timestamp'].dt.year == 2017]"
   ]
  },
  {
   "cell_type": "code",
   "execution_count": null,
   "metadata": {},
   "outputs": [],
   "source": [
    "for i in range(9):\n",
    "    year_2017[i] = dict_2017[year_2017[i]]"
   ]
  },
  {
   "cell_type": "code",
   "execution_count": null,
   "metadata": {},
   "outputs": [],
   "source": [
    "year_2018 = ['sonycnode-b827eb820cfe',\n",
    " 'sonycnode-b827eb8e2420',\n",
    " 'sonycnode-b827eb73e772',\n",
    " 'sonycnode-b827eb815321',\n",
    " 'sonycnode-b827eb329ab8',\n",
    " 'sonycnode-b827ebdd5c38',\n",
    " 'sonycnode-b827eb0d8af7',\n",
    " 'sonycnode-b827eb4e7821',\n",
    " 'sonycnode-b827eb86d458']"
   ]
  },
  {
   "cell_type": "code",
   "execution_count": null,
   "metadata": {},
   "outputs": [],
   "source": [
    "dict_2018 = {}\n",
    "for i in range(9):\n",
    "    # print(filenames[i])\n",
    "    dict_2018[year_2018[i]]= filenames[i][filenames[i]['timestamp'].dt.year == 2018]"
   ]
  },
  {
   "cell_type": "code",
   "execution_count": null,
   "metadata": {},
   "outputs": [],
   "source": [
    "for i in range(9):\n",
    "    year_2018[i] = dict_2018[year_2018[i]]"
   ]
  },
  {
   "cell_type": "markdown",
   "metadata": {},
   "source": [
    "Selecting only the data that falls on April 12th"
   ]
  },
  {
   "cell_type": "code",
   "execution_count": null,
   "metadata": {},
   "outputs": [],
   "source": [
    "year_2018_4 = ['sonycnode-b827eb820cfe',\n",
    " 'sonycnode-b827eb8e2420',\n",
    " 'sonycnode-b827eb73e772',\n",
    " 'sonycnode-b827eb815321',\n",
    " 'sonycnode-b827eb329ab8',\n",
    " 'sonycnode-b827ebdd5c38',\n",
    " 'sonycnode-b827eb0d8af7',\n",
    " 'sonycnode-b827eb4e7821',\n",
    " 'sonycnode-b827eb86d458']"
   ]
  },
  {
   "cell_type": "code",
   "execution_count": null,
   "metadata": {},
   "outputs": [],
   "source": [
    "# Retrieving only the date of interest for 2018\n",
    "dict_2018_4 = {}\n",
    "for i in range(9):\n",
    "    # print(filenames[i])\n",
    "    dict_2018_4[year_2018_4[i]]= year_2018[i][(year_2018[i]['timestamp'].dt.month == 4)&(year_2018[i]['timestamp'].dt.day == 12)]"
   ]
  },
  {
   "cell_type": "code",
   "execution_count": null,
   "metadata": {},
   "outputs": [],
   "source": [
    "year_2017_4 = ['sonycnode-b827eb820cfe',\n",
    " 'sonycnode-b827eb8e2420',\n",
    " 'sonycnode-b827eb73e772',\n",
    " 'sonycnode-b827eb815321',\n",
    " 'sonycnode-b827eb329ab8',\n",
    " 'sonycnode-b827ebdd5c38',\n",
    " 'sonycnode-b827eb0d8af7',\n",
    " 'sonycnode-b827eb4e7821',\n",
    " 'sonycnode-b827eb86d458']"
   ]
  },
  {
   "cell_type": "code",
   "execution_count": null,
   "metadata": {},
   "outputs": [],
   "source": [
    "# Retrieving only the date of interest for 2017\n",
    "dict_2017_4 = {}\n",
    "for i in range(9):\n",
    "    # print(filenames[i])\n",
    "    dict_2017_4[year_2017_4[i]]= dict_2017[year_2017[i]][(dict_2017[year_2017[i]]['timestamp'].dt.month == 4)&(year_2017[i]['timestamp'].dt.day == 12)]"
   ]
  },
  {
   "cell_type": "code",
   "execution_count": null,
   "metadata": {},
   "outputs": [],
   "source": []
  },
  {
   "cell_type": "code",
   "execution_count": null,
   "metadata": {},
   "outputs": [],
   "source": []
  }
 ],
 "metadata": {
  "kernelspec": {
   "display_name": "Python 3",
   "language": "python",
   "name": "python3"
  },
  "language_info": {
   "codemirror_mode": {
    "name": "ipython",
    "version": 3
   },
   "file_extension": ".py",
   "mimetype": "text/x-python",
   "name": "python",
   "nbconvert_exporter": "python",
   "pygments_lexer": "ipython3",
   "version": "3.6.5"
  }
 },
 "nbformat": 4,
 "nbformat_minor": 2
}
